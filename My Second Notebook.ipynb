{
 "cells": [
  {
   "cell_type": "code",
   "execution_count": 20,
   "id": "1c80a1f7",
   "metadata": {},
   "outputs": [
    {
     "name": "stdout",
     "output_type": "stream",
     "text": [
      "38000.0\n"
     ]
    }
   ],
   "source": [
    "#This calculatesthe discount applied per price\n",
    "Price = 40000\n",
    "if Price>= 100000: \n",
    "    print (Price - Price *0.2)\n",
    "elif Price>=50000 and Price <=99000:\n",
    "    print (Price - Price *0.1)\n",
    "else:\n",
    "    print (Price - Price *0.05)"
   ]
  },
  {
   "cell_type": "code",
   "execution_count": 1,
   "id": "c87009db",
   "metadata": {},
   "outputs": [
    {
     "name": "stdout",
     "output_type": "stream",
     "text": [
      "Product Price: 60000\n",
      "54000.0\n"
     ]
    }
   ],
   "source": [
    "# this shows the product price and sales price\n",
    "\n",
    "Price =int(input('Product Price: '))\n",
    "if Price>= 100000: \n",
    "    print (Price - Price *0.2)\n",
    "elif Price>=50000 and Price <=99000:\n",
    "    print (Price - Price *0.1)\n",
    "else:\n",
    "    print (Price - Price *0.05)"
   ]
  },
  {
   "cell_type": "code",
   "execution_count": 14,
   "id": "73316061",
   "metadata": {},
   "outputs": [
    {
     "name": "stdout",
     "output_type": "stream",
     "text": [
      "Chef\n"
     ]
    }
   ],
   "source": [
    "student_list = [\"Lilian\",\"Prisca\",\"Emmanuel\",\"Chef\",\"Josh\",\"Lawrence\"]\n",
    "print (student_list[3])"
   ]
  },
  {
   "cell_type": "code",
   "execution_count": 15,
   "id": "ce259123",
   "metadata": {},
   "outputs": [
    {
     "data": {
      "text/plain": [
       "'Josh'"
      ]
     },
     "execution_count": 15,
     "metadata": {},
     "output_type": "execute_result"
    }
   ],
   "source": [
    "student_list.pop(4)"
   ]
  },
  {
   "cell_type": "code",
   "execution_count": 17,
   "id": "e77350e9",
   "metadata": {},
   "outputs": [
    {
     "name": "stdout",
     "output_type": "stream",
     "text": [
      "89\n"
     ]
    }
   ],
   "source": [
    "my_dict = {\n",
    "    \"Age\": [25,45,67,89],\n",
    "    \"Sex\": [\"M\",\"F\",\"M\",\"F\"]\n",
    "    \n",
    "}\n",
    "\n",
    "print (my_dict[\"Age\"][3])"
   ]
  }
 ],
 "metadata": {
  "kernelspec": {
   "display_name": "Python 3 (ipykernel)",
   "language": "python",
   "name": "python3"
  },
  "language_info": {
   "codemirror_mode": {
    "name": "ipython",
    "version": 3
   },
   "file_extension": ".py",
   "mimetype": "text/x-python",
   "name": "python",
   "nbconvert_exporter": "python",
   "pygments_lexer": "ipython3",
   "version": "3.11.3"
  }
 },
 "nbformat": 4,
 "nbformat_minor": 5
}
